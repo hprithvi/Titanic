{
 "cells": [
  {
   "cell_type": "code",
   "execution_count": 164,
   "metadata": {},
   "outputs": [
    {
     "name": "stdout",
     "output_type": "stream",
     "text": [
      "Decision tree score for Score is 0.822429906542056 for a depth of 2\n",
      "Decision tree score for Score is 0.8130841121495327 for a depth of 3\n",
      "Decision tree score for Score is 0.8317757009345794 for a depth of 4\n",
      "Decision tree score for Score is 0.8084112149532711 for a depth of 5\n",
      "Decision tree score for Score is 0.8037383177570093 for a depth of 6\n",
      "Decision tree score for Score is 0.794392523364486 for a depth of 7\n",
      "Decision tree score for Score is 0.8084112149532711 for a depth of 8\n",
      "Decision tree score for Score is 0.8084112149532711 for a depth of 9\n"
     ]
    }
   ],
   "source": [
    "# This is a project on Titanic Survival Prediction\n",
    "\n",
    "import sklearn\n",
    "import pandas as pd\n",
    "import numpy as np\n",
    "from sklearn import metrics\n",
    "\n",
    "from sklearn.tree import DecisionTreeClassifier  #Importing a Decision Tree Classifier\n",
    "\n",
    "#Creating a DataFrame of data\n",
    "\n",
    "df = pd.read_csv(\"Titanic Dataset.csv\")\n",
    "df.columns\n",
    "\n",
    "df_features = df[['Survived', 'Pclass','Sex', 'Age', 'SibSp','Parch','Fare','Embarked']]\n",
    "\n",
    "x = df_features[['Pclass','Sex', 'Age', 'SibSp','Parch','Fare','Embarked']].to_numpy()\n",
    "\n",
    "y = df_features['Survived'].to_numpy()\n",
    "limit = x.shape[0]\n",
    "i=0\n",
    "count = 0\n",
    "\n",
    "\n",
    "\n",
    "while i< limit:\n",
    "    \n",
    "    if True in pd.isnull(x[i]):\n",
    "        x = np.delete(x, i, 0)\n",
    "        y = np.delete(y,i,0)\n",
    "        count = count+1\n",
    "        #print(\"Hue hue\")\n",
    "    if True not in pd.isnull(x[i]):\n",
    "        i = i+1\n",
    "    limit = x.shape[0]\n",
    "\n",
    "#print(count)\n",
    "\n",
    "\n",
    "# \"Sex\" and \"Embarked\" to be converted to 0,1,2 \n",
    "\n",
    "le_obj = sklearn.preprocessing.LabelEncoder()\n",
    "x[:,1] = le_obj.fit_transform(x[:,1])\n",
    "x[:, 6] = le_obj.fit_transform(x[:, 6])\n",
    "\n",
    "#type(x)\n",
    "from sklearn.model_selection import train_test_split\n",
    "x_train, x_test, y_train, y_test = train_test_split(x,y, test_size = 0.3, random_state = 4 )\n",
    "\n",
    "\n",
    "\n",
    "\n",
    "#Create an object of Decision tree\n",
    "for n in range(2,10):\n",
    "    my_dt = DecisionTreeClassifier(max_depth = n, criterion = 'entropy')\n",
    "#print(x.shape[0])\n",
    "#print(x[5,2])\n",
    "#type(x[58,2])\n",
    "    my_dt.fit(x_train, y_train)\n",
    "    y_test = y_test.reshape(-1,1)\n",
    "    y_pred = my_dt.predict(x_test).reshape(-1,1)\n",
    "\n",
    "#print(\"Pred and test are {}, {}\".format(y_pred.shape,y_test.shape))\n",
    "    print(\"Decision tree score for Score is {} for a depth of {}\".format(metrics.accuracy_score(y_test, y_pred),n))\n",
    "    \n"
   ]
  },
  {
   "cell_type": "code",
   "execution_count": 168,
   "metadata": {},
   "outputs": [
    {
     "name": "stdout",
     "output_type": "stream",
     "text": [
      "Score for kernel as linear is 0.7710280373831776\n",
      "Score for kernel as poly is 0.6495327102803738\n",
      "Score for kernel as rbf is 0.6822429906542056\n",
      "Score for kernel as sigmoid is 0.5654205607476636\n"
     ]
    }
   ],
   "source": [
    "from sklearn.svm import SVC    # Importing a Support Vector Classifier\n",
    "\n",
    "#Create an object in SVC\n",
    "\n",
    "kernel_list = ['linear', 'poly', 'rbf', 'sigmoid']\n",
    "i = 0\n",
    "while i< 4:\n",
    "    svc_obj = SVC(kernel = kernel_list[i])\n",
    "    svc_obj.fit(x_train, y_train)\n",
    "    y_pred_svc = svc_obj.predict(x_test)\n",
    "    print(\"Score for kernel as {} is {}\".format(kernel_list[i], metrics.accuracy_score(y_test, y_pred_svc)))\n",
    "    i = i+1\n",
    "\n"
   ]
  },
  {
   "cell_type": "markdown",
   "metadata": {},
   "source": [
    "It can be seen that Decision Tree with a max_depth = 4 has the best accuracy score. \n",
    "Decision Tree performs better than SVC.\n",
    "\n",
    "Important points to note:\n",
    "1) Convert y_pred and y_test into 2D arrays before calculating the accuracy scores. Use .reshape(-1,1)\n",
    "2) While cleaning data, use \"pd.isnull(x)\" to get a Boolean array that can be used to delete the rows with Nno entries in any column\n",
    "\n",
    "\n",
    "\n"
   ]
  }
 ],
 "metadata": {
  "kernelspec": {
   "display_name": "Python 3",
   "language": "python",
   "name": "python3"
  },
  "language_info": {
   "codemirror_mode": {
    "name": "ipython",
    "version": 3
   },
   "file_extension": ".py",
   "mimetype": "text/x-python",
   "name": "python",
   "nbconvert_exporter": "python",
   "pygments_lexer": "ipython3",
   "version": "3.7.6"
  }
 },
 "nbformat": 4,
 "nbformat_minor": 4
}
